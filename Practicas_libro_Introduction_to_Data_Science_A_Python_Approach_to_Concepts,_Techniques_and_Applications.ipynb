{
  "nbformat": 4,
  "nbformat_minor": 0,
  "metadata": {
    "colab": {
      "provenance": [],
      "authorship_tag": "ABX9TyM2/bNt6l+QXax51C3mt5uF",
      "include_colab_link": true
    },
    "kernelspec": {
      "name": "python3",
      "display_name": "Python 3"
    },
    "language_info": {
      "name": "python"
    }
  },
  "cells": [
    {
      "cell_type": "markdown",
      "metadata": {
        "id": "view-in-github",
        "colab_type": "text"
      },
      "source": [
        "<a href=\"https://colab.research.google.com/github/paulorellanac/Ucuenca-Clase-Ciencia-de-Datos/blob/main/Practicas_libro_Introduction_to_Data_Science_A_Python_Approach_to_Concepts%2C_Techniques_and_Applications.ipynb\" target=\"_parent\"><img src=\"https://colab.research.google.com/assets/colab-badge.svg\" alt=\"Open In Colab\"/></a>"
      ]
    },
    {
      "cell_type": "code",
      "execution_count": null,
      "metadata": {
        "id": "nD8gsRQO51wv"
      },
      "outputs": [],
      "source": []
    }
  ]
}